{
 "cells": [
  {
   "cell_type": "markdown",
   "metadata": {},
   "source": [
    "<h2 style='color:purple' align='center'>GALA GROCRIES EDA TO FIND THE INSIGHTS IN THE DATA</h2>"
   ]
  },
  {
   "cell_type": "code",
   "execution_count": 12,
   "metadata": {},
   "outputs": [],
   "source": [
    "import pandas as pd\n",
    "import matplotlib.pyplot as plt\n",
    "import seaborn as sns"
   ]
  },
  {
   "cell_type": "code",
   "execution_count": 13,
   "metadata": {},
   "outputs": [
    {
     "data": {
      "text/html": [
       "<div>\n",
       "<style scoped>\n",
       "    .dataframe tbody tr th:only-of-type {\n",
       "        vertical-align: middle;\n",
       "    }\n",
       "\n",
       "    .dataframe tbody tr th {\n",
       "        vertical-align: top;\n",
       "    }\n",
       "\n",
       "    .dataframe thead th {\n",
       "        text-align: right;\n",
       "    }\n",
       "</style>\n",
       "<table border=\"1\" class=\"dataframe\">\n",
       "  <thead>\n",
       "    <tr style=\"text-align: right;\">\n",
       "      <th></th>\n",
       "      <th>rl</th>\n",
       "      <th>transaction_id</th>\n",
       "      <th>timestamp</th>\n",
       "      <th>product_id</th>\n",
       "      <th>category</th>\n",
       "      <th>customer_type</th>\n",
       "      <th>unit_price</th>\n",
       "      <th>quantity</th>\n",
       "      <th>total</th>\n",
       "      <th>payment_type</th>\n",
       "    </tr>\n",
       "  </thead>\n",
       "  <tbody>\n",
       "    <tr>\n",
       "      <th>0</th>\n",
       "      <td>0</td>\n",
       "      <td>a1c82654-c52c-45b3-8ce8-4c2a1efe63ed</td>\n",
       "      <td>02-03-2022 09:51</td>\n",
       "      <td>3bc6c1ea-0198-46de-9ffd-514ae3338713</td>\n",
       "      <td>fruit</td>\n",
       "      <td>gold</td>\n",
       "      <td>3.99</td>\n",
       "      <td>2</td>\n",
       "      <td>7.98</td>\n",
       "      <td>e-wallet</td>\n",
       "    </tr>\n",
       "    <tr>\n",
       "      <th>1</th>\n",
       "      <td>1</td>\n",
       "      <td>931ad550-09e8-4da6-beaa-8c9d17be9c60</td>\n",
       "      <td>06-03-2022 10:33</td>\n",
       "      <td>ad81b46c-bf38-41cf-9b54-5fe7f5eba93e</td>\n",
       "      <td>fruit</td>\n",
       "      <td>standard</td>\n",
       "      <td>3.99</td>\n",
       "      <td>1</td>\n",
       "      <td>3.99</td>\n",
       "      <td>e-wallet</td>\n",
       "    </tr>\n",
       "    <tr>\n",
       "      <th>2</th>\n",
       "      <td>2</td>\n",
       "      <td>ae133534-6f61-4cd6-b6b8-d1c1d8d90aea</td>\n",
       "      <td>04-03-2022 17:20</td>\n",
       "      <td>7c55cbd4-f306-4c04-a030-628cbe7867c1</td>\n",
       "      <td>fruit</td>\n",
       "      <td>premium</td>\n",
       "      <td>0.19</td>\n",
       "      <td>2</td>\n",
       "      <td>0.38</td>\n",
       "      <td>e-wallet</td>\n",
       "    </tr>\n",
       "    <tr>\n",
       "      <th>3</th>\n",
       "      <td>3</td>\n",
       "      <td>157cebd9-aaf0-475d-8a11-7c8e0f5b76e4</td>\n",
       "      <td>02-03-2022 17:23</td>\n",
       "      <td>80da8348-1707-403f-8be7-9e6deeccc883</td>\n",
       "      <td>fruit</td>\n",
       "      <td>gold</td>\n",
       "      <td>0.19</td>\n",
       "      <td>4</td>\n",
       "      <td>0.76</td>\n",
       "      <td>e-wallet</td>\n",
       "    </tr>\n",
       "    <tr>\n",
       "      <th>4</th>\n",
       "      <td>4</td>\n",
       "      <td>a81a6cd3-5e0c-44a2-826c-aea43e46c514</td>\n",
       "      <td>05-03-2022 14:32</td>\n",
       "      <td>7f5e86e6-f06f-45f6-bf44-27b095c9ad1d</td>\n",
       "      <td>fruit</td>\n",
       "      <td>basic</td>\n",
       "      <td>4.49</td>\n",
       "      <td>2</td>\n",
       "      <td>8.98</td>\n",
       "      <td>debit card</td>\n",
       "    </tr>\n",
       "    <tr>\n",
       "      <th>5</th>\n",
       "      <td>5</td>\n",
       "      <td>b5b3c8b9-f496-484d-aa30-4f2efb5ed56c</td>\n",
       "      <td>07-03-2022 17:59</td>\n",
       "      <td>3bc6c1ea-0198-46de-9ffd-514ae3338713</td>\n",
       "      <td>fruit</td>\n",
       "      <td>standard</td>\n",
       "      <td>3.99</td>\n",
       "      <td>4</td>\n",
       "      <td>15.96</td>\n",
       "      <td>cash</td>\n",
       "    </tr>\n",
       "    <tr>\n",
       "      <th>6</th>\n",
       "      <td>6</td>\n",
       "      <td>4997b1ae-f5aa-4b9f-8fc8-22ad8f19837c</td>\n",
       "      <td>07-03-2022 19:36</td>\n",
       "      <td>14736243-d346-438f-9535-d80fcb9f3882</td>\n",
       "      <td>fruit</td>\n",
       "      <td>standard</td>\n",
       "      <td>1.49</td>\n",
       "      <td>4</td>\n",
       "      <td>5.96</td>\n",
       "      <td>e-wallet</td>\n",
       "    </tr>\n",
       "    <tr>\n",
       "      <th>7</th>\n",
       "      <td>7</td>\n",
       "      <td>bfffee68-0736-42af-bd3e-4ca77541b0d6</td>\n",
       "      <td>07-03-2022 19:03</td>\n",
       "      <td>0ddc2379-adba-4fb0-aa97-19fcafc738a1</td>\n",
       "      <td>fruit</td>\n",
       "      <td>basic</td>\n",
       "      <td>3.99</td>\n",
       "      <td>4</td>\n",
       "      <td>15.96</td>\n",
       "      <td>credit card</td>\n",
       "    </tr>\n",
       "    <tr>\n",
       "      <th>8</th>\n",
       "      <td>8</td>\n",
       "      <td>ce50e984-90cd-4b47-8537-3a4e32e6d314</td>\n",
       "      <td>07-03-2022 11:34</td>\n",
       "      <td>ad81b46c-bf38-41cf-9b54-5fe7f5eba93e</td>\n",
       "      <td>fruit</td>\n",
       "      <td>non-member</td>\n",
       "      <td>3.99</td>\n",
       "      <td>1</td>\n",
       "      <td>3.99</td>\n",
       "      <td>credit card</td>\n",
       "    </tr>\n",
       "    <tr>\n",
       "      <th>9</th>\n",
       "      <td>9</td>\n",
       "      <td>f0700cc9-e6f5-4b9a-add4-05e64b4f495b</td>\n",
       "      <td>07-03-2022 09:20</td>\n",
       "      <td>35e00193-aa27-4121-87f4-6ac0d8a8671f</td>\n",
       "      <td>fruit</td>\n",
       "      <td>premium</td>\n",
       "      <td>0.49</td>\n",
       "      <td>3</td>\n",
       "      <td>1.47</td>\n",
       "      <td>e-wallet</td>\n",
       "    </tr>\n",
       "  </tbody>\n",
       "</table>\n",
       "</div>"
      ],
      "text/plain": [
       "   rl                        transaction_id         timestamp  \\\n",
       "0   0  a1c82654-c52c-45b3-8ce8-4c2a1efe63ed  02-03-2022 09:51   \n",
       "1   1  931ad550-09e8-4da6-beaa-8c9d17be9c60  06-03-2022 10:33   \n",
       "2   2  ae133534-6f61-4cd6-b6b8-d1c1d8d90aea  04-03-2022 17:20   \n",
       "3   3  157cebd9-aaf0-475d-8a11-7c8e0f5b76e4  02-03-2022 17:23   \n",
       "4   4  a81a6cd3-5e0c-44a2-826c-aea43e46c514  05-03-2022 14:32   \n",
       "5   5  b5b3c8b9-f496-484d-aa30-4f2efb5ed56c  07-03-2022 17:59   \n",
       "6   6  4997b1ae-f5aa-4b9f-8fc8-22ad8f19837c  07-03-2022 19:36   \n",
       "7   7  bfffee68-0736-42af-bd3e-4ca77541b0d6  07-03-2022 19:03   \n",
       "8   8  ce50e984-90cd-4b47-8537-3a4e32e6d314  07-03-2022 11:34   \n",
       "9   9  f0700cc9-e6f5-4b9a-add4-05e64b4f495b  07-03-2022 09:20   \n",
       "\n",
       "                             product_id category customer_type  unit_price  \\\n",
       "0  3bc6c1ea-0198-46de-9ffd-514ae3338713    fruit          gold        3.99   \n",
       "1  ad81b46c-bf38-41cf-9b54-5fe7f5eba93e    fruit      standard        3.99   \n",
       "2  7c55cbd4-f306-4c04-a030-628cbe7867c1    fruit       premium        0.19   \n",
       "3  80da8348-1707-403f-8be7-9e6deeccc883    fruit          gold        0.19   \n",
       "4  7f5e86e6-f06f-45f6-bf44-27b095c9ad1d    fruit         basic        4.49   \n",
       "5  3bc6c1ea-0198-46de-9ffd-514ae3338713    fruit      standard        3.99   \n",
       "6  14736243-d346-438f-9535-d80fcb9f3882    fruit      standard        1.49   \n",
       "7  0ddc2379-adba-4fb0-aa97-19fcafc738a1    fruit         basic        3.99   \n",
       "8  ad81b46c-bf38-41cf-9b54-5fe7f5eba93e    fruit    non-member        3.99   \n",
       "9  35e00193-aa27-4121-87f4-6ac0d8a8671f    fruit       premium        0.49   \n",
       "\n",
       "   quantity  total payment_type  \n",
       "0         2   7.98     e-wallet  \n",
       "1         1   3.99     e-wallet  \n",
       "2         2   0.38     e-wallet  \n",
       "3         4   0.76     e-wallet  \n",
       "4         2   8.98   debit card  \n",
       "5         4  15.96         cash  \n",
       "6         4   5.96     e-wallet  \n",
       "7         4  15.96  credit card  \n",
       "8         1   3.99  credit card  \n",
       "9         3   1.47     e-wallet  "
      ]
     },
     "execution_count": 13,
     "metadata": {},
     "output_type": "execute_result"
    }
   ],
   "source": [
    "df = pd.read_csv(\"D:\\cognizant certification\\EDA of sales data\\sample_sales_data.csv\")\n",
    "df.head(10)"
   ]
  },
  {
   "cell_type": "code",
   "execution_count": 14,
   "metadata": {},
   "outputs": [
    {
     "name": "stdout",
     "output_type": "stream",
     "text": [
      "<class 'pandas.core.frame.DataFrame'>\n",
      "RangeIndex: 7829 entries, 0 to 7828\n",
      "Data columns (total 10 columns):\n",
      " #   Column          Non-Null Count  Dtype  \n",
      "---  ------          --------------  -----  \n",
      " 0   rl              7829 non-null   int64  \n",
      " 1   transaction_id  7829 non-null   object \n",
      " 2   timestamp       7829 non-null   object \n",
      " 3   product_id      7829 non-null   object \n",
      " 4   category        7829 non-null   object \n",
      " 5   customer_type   7829 non-null   object \n",
      " 6   unit_price      7829 non-null   float64\n",
      " 7   quantity        7829 non-null   int64  \n",
      " 8   total           7829 non-null   float64\n",
      " 9   payment_type    7829 non-null   object \n",
      "dtypes: float64(2), int64(2), object(6)\n",
      "memory usage: 611.8+ KB\n"
     ]
    }
   ],
   "source": [
    "df.info()"
   ]
  },
  {
   "cell_type": "markdown",
   "metadata": {},
   "source": [
    "The columns 'rl','transaction_id','product_id' does not give any insights about the data so they are removed and a new dataframe is created"
   ]
  },
  {
   "cell_type": "code",
   "execution_count": 15,
   "metadata": {},
   "outputs": [
    {
     "data": {
      "text/html": [
       "<div>\n",
       "<style scoped>\n",
       "    .dataframe tbody tr th:only-of-type {\n",
       "        vertical-align: middle;\n",
       "    }\n",
       "\n",
       "    .dataframe tbody tr th {\n",
       "        vertical-align: top;\n",
       "    }\n",
       "\n",
       "    .dataframe thead th {\n",
       "        text-align: right;\n",
       "    }\n",
       "</style>\n",
       "<table border=\"1\" class=\"dataframe\">\n",
       "  <thead>\n",
       "    <tr style=\"text-align: right;\">\n",
       "      <th></th>\n",
       "      <th>timestamp</th>\n",
       "      <th>category</th>\n",
       "      <th>customer_type</th>\n",
       "      <th>unit_price</th>\n",
       "      <th>quantity</th>\n",
       "      <th>total</th>\n",
       "      <th>payment_type</th>\n",
       "    </tr>\n",
       "  </thead>\n",
       "  <tbody>\n",
       "    <tr>\n",
       "      <th>0</th>\n",
       "      <td>02-03-2022 09:51</td>\n",
       "      <td>fruit</td>\n",
       "      <td>gold</td>\n",
       "      <td>3.99</td>\n",
       "      <td>2</td>\n",
       "      <td>7.98</td>\n",
       "      <td>e-wallet</td>\n",
       "    </tr>\n",
       "    <tr>\n",
       "      <th>1</th>\n",
       "      <td>06-03-2022 10:33</td>\n",
       "      <td>fruit</td>\n",
       "      <td>standard</td>\n",
       "      <td>3.99</td>\n",
       "      <td>1</td>\n",
       "      <td>3.99</td>\n",
       "      <td>e-wallet</td>\n",
       "    </tr>\n",
       "    <tr>\n",
       "      <th>2</th>\n",
       "      <td>04-03-2022 17:20</td>\n",
       "      <td>fruit</td>\n",
       "      <td>premium</td>\n",
       "      <td>0.19</td>\n",
       "      <td>2</td>\n",
       "      <td>0.38</td>\n",
       "      <td>e-wallet</td>\n",
       "    </tr>\n",
       "    <tr>\n",
       "      <th>3</th>\n",
       "      <td>02-03-2022 17:23</td>\n",
       "      <td>fruit</td>\n",
       "      <td>gold</td>\n",
       "      <td>0.19</td>\n",
       "      <td>4</td>\n",
       "      <td>0.76</td>\n",
       "      <td>e-wallet</td>\n",
       "    </tr>\n",
       "    <tr>\n",
       "      <th>4</th>\n",
       "      <td>05-03-2022 14:32</td>\n",
       "      <td>fruit</td>\n",
       "      <td>basic</td>\n",
       "      <td>4.49</td>\n",
       "      <td>2</td>\n",
       "      <td>8.98</td>\n",
       "      <td>debit card</td>\n",
       "    </tr>\n",
       "  </tbody>\n",
       "</table>\n",
       "</div>"
      ],
      "text/plain": [
       "          timestamp category customer_type  unit_price  quantity  total  \\\n",
       "0  02-03-2022 09:51    fruit          gold        3.99         2   7.98   \n",
       "1  06-03-2022 10:33    fruit      standard        3.99         1   3.99   \n",
       "2  04-03-2022 17:20    fruit       premium        0.19         2   0.38   \n",
       "3  02-03-2022 17:23    fruit          gold        0.19         4   0.76   \n",
       "4  05-03-2022 14:32    fruit         basic        4.49         2   8.98   \n",
       "\n",
       "  payment_type  \n",
       "0     e-wallet  \n",
       "1     e-wallet  \n",
       "2     e-wallet  \n",
       "3     e-wallet  \n",
       "4   debit card  "
      ]
     },
     "execution_count": 15,
     "metadata": {},
     "output_type": "execute_result"
    }
   ],
   "source": [
    "df1 = df.drop(['rl','transaction_id','product_id'],axis='columns')\n",
    "df1.head()"
   ]
  },
  {
   "cell_type": "code",
   "execution_count": 16,
   "metadata": {},
   "outputs": [
    {
     "data": {
      "text/plain": [
       "(7829, 7)"
      ]
     },
     "execution_count": 16,
     "metadata": {},
     "output_type": "execute_result"
    }
   ],
   "source": [
    "df1.shape"
   ]
  },
  {
   "cell_type": "markdown",
   "metadata": {},
   "source": [
    "Checking the null values in the dataset"
   ]
  },
  {
   "cell_type": "code",
   "execution_count": 17,
   "metadata": {},
   "outputs": [
    {
     "data": {
      "text/plain": [
       "timestamp        0\n",
       "category         0\n",
       "customer_type    0\n",
       "unit_price       0\n",
       "quantity         0\n",
       "total            0\n",
       "payment_type     0\n",
       "dtype: int64"
      ]
     },
     "execution_count": 17,
     "metadata": {},
     "output_type": "execute_result"
    }
   ],
   "source": [
    "df1.isnull().sum()"
   ]
  },
  {
   "cell_type": "markdown",
   "metadata": {},
   "source": [
    "Checking unique values in \"payment_type\",\"category\",\"customer_type\" and printing their count"
   ]
  },
  {
   "cell_type": "code",
   "execution_count": 18,
   "metadata": {},
   "outputs": [
    {
     "data": {
      "text/plain": [
       "array(['e-wallet', 'debit card', 'cash', 'credit card'], dtype=object)"
      ]
     },
     "execution_count": 18,
     "metadata": {},
     "output_type": "execute_result"
    }
   ],
   "source": [
    "df1['payment_type'].unique()"
   ]
  },
  {
   "cell_type": "code",
   "execution_count": 19,
   "metadata": {},
   "outputs": [
    {
     "data": {
      "text/plain": [
       "payment_type\n",
       "cash           2027\n",
       "credit card    1949\n",
       "debit card     1918\n",
       "e-wallet       1935\n",
       "Name: count, dtype: int64"
      ]
     },
     "execution_count": 19,
     "metadata": {},
     "output_type": "execute_result"
    }
   ],
   "source": [
    "df1['payment_type'].value_counts().sort_index()"
   ]
  },
  {
   "cell_type": "code",
   "execution_count": 20,
   "metadata": {},
   "outputs": [
    {
     "data": {
      "text/plain": [
       "array(['fruit', 'vegetables', 'refrigerated items', 'frozen',\n",
       "       'spices and herbs', 'canned foods', 'packaged foods',\n",
       "       'condiments and sauces', 'beverages', 'dairy', 'cheese', 'meat',\n",
       "       'seafood', 'baked goods', 'baking', 'snacks', 'baby products',\n",
       "       'pets', 'personal care', 'medicine', 'kitchen',\n",
       "       'cleaning products'], dtype=object)"
      ]
     },
     "execution_count": 20,
     "metadata": {},
     "output_type": "execute_result"
    }
   ],
   "source": [
    "df1['category'].unique()"
   ]
  },
  {
   "cell_type": "code",
   "execution_count": 9,
   "metadata": {},
   "outputs": [
    {
     "data": {
      "text/plain": [
       "category\n",
       "baby products            224\n",
       "baked goods              443\n",
       "baking                   264\n",
       "beverages                301\n",
       "canned foods             431\n",
       "cheese                   293\n",
       "cleaning products        292\n",
       "condiments and sauces    181\n",
       "dairy                    375\n",
       "frozen                   263\n",
       "fruit                    998\n",
       "kitchen                  382\n",
       "meat                     382\n",
       "medicine                 243\n",
       "packaged foods           507\n",
       "personal care            177\n",
       "pets                     161\n",
       "refrigerated items       425\n",
       "seafood                  253\n",
       "snacks                   263\n",
       "spices and herbs         125\n",
       "vegetables               846\n",
       "Name: count, dtype: int64"
      ]
     },
     "execution_count": 9,
     "metadata": {},
     "output_type": "execute_result"
    }
   ],
   "source": [
    "df1['category'].value_counts().sort_index()"
   ]
  },
  {
   "cell_type": "code",
   "execution_count": 21,
   "metadata": {},
   "outputs": [
    {
     "data": {
      "text/plain": [
       "customer_type\n",
       "basic         1526\n",
       "gold          1517\n",
       "non-member    1601\n",
       "premium       1590\n",
       "standard      1595\n",
       "Name: count, dtype: int64"
      ]
     },
     "execution_count": 21,
     "metadata": {},
     "output_type": "execute_result"
    }
   ],
   "source": [
    "df1['customer_type'].value_counts().sort_index()"
   ]
  },
  {
   "cell_type": "markdown",
   "metadata": {},
   "source": [
    "The \"time_stamp\" column in our code contains date, month, year,and the time so we are creating 2 new columns named as \"day\" and \"month\" to store the date and month "
   ]
  },
  {
   "cell_type": "code",
   "execution_count": 25,
   "metadata": {},
   "outputs": [
    {
     "data": {
      "text/html": [
       "<div>\n",
       "<style scoped>\n",
       "    .dataframe tbody tr th:only-of-type {\n",
       "        vertical-align: middle;\n",
       "    }\n",
       "\n",
       "    .dataframe tbody tr th {\n",
       "        vertical-align: top;\n",
       "    }\n",
       "\n",
       "    .dataframe thead th {\n",
       "        text-align: right;\n",
       "    }\n",
       "</style>\n",
       "<table border=\"1\" class=\"dataframe\">\n",
       "  <thead>\n",
       "    <tr style=\"text-align: right;\">\n",
       "      <th></th>\n",
       "      <th>timestamp</th>\n",
       "      <th>category</th>\n",
       "      <th>customer_type</th>\n",
       "      <th>unit_price</th>\n",
       "      <th>quantity</th>\n",
       "      <th>total</th>\n",
       "      <th>payment_type</th>\n",
       "      <th>day</th>\n",
       "      <th>month</th>\n",
       "    </tr>\n",
       "  </thead>\n",
       "  <tbody>\n",
       "    <tr>\n",
       "      <th>0</th>\n",
       "      <td>2022-03-02 09:51:00</td>\n",
       "      <td>fruit</td>\n",
       "      <td>gold</td>\n",
       "      <td>3.99</td>\n",
       "      <td>2</td>\n",
       "      <td>7.98</td>\n",
       "      <td>e-wallet</td>\n",
       "      <td>2</td>\n",
       "      <td>3</td>\n",
       "    </tr>\n",
       "    <tr>\n",
       "      <th>1</th>\n",
       "      <td>2022-03-06 10:33:00</td>\n",
       "      <td>fruit</td>\n",
       "      <td>standard</td>\n",
       "      <td>3.99</td>\n",
       "      <td>1</td>\n",
       "      <td>3.99</td>\n",
       "      <td>e-wallet</td>\n",
       "      <td>6</td>\n",
       "      <td>3</td>\n",
       "    </tr>\n",
       "    <tr>\n",
       "      <th>2</th>\n",
       "      <td>2022-03-04 17:20:00</td>\n",
       "      <td>fruit</td>\n",
       "      <td>premium</td>\n",
       "      <td>0.19</td>\n",
       "      <td>2</td>\n",
       "      <td>0.38</td>\n",
       "      <td>e-wallet</td>\n",
       "      <td>4</td>\n",
       "      <td>3</td>\n",
       "    </tr>\n",
       "    <tr>\n",
       "      <th>3</th>\n",
       "      <td>2022-03-02 17:23:00</td>\n",
       "      <td>fruit</td>\n",
       "      <td>gold</td>\n",
       "      <td>0.19</td>\n",
       "      <td>4</td>\n",
       "      <td>0.76</td>\n",
       "      <td>e-wallet</td>\n",
       "      <td>2</td>\n",
       "      <td>3</td>\n",
       "    </tr>\n",
       "    <tr>\n",
       "      <th>4</th>\n",
       "      <td>2022-03-05 14:32:00</td>\n",
       "      <td>fruit</td>\n",
       "      <td>basic</td>\n",
       "      <td>4.49</td>\n",
       "      <td>2</td>\n",
       "      <td>8.98</td>\n",
       "      <td>debit card</td>\n",
       "      <td>5</td>\n",
       "      <td>3</td>\n",
       "    </tr>\n",
       "  </tbody>\n",
       "</table>\n",
       "</div>"
      ],
      "text/plain": [
       "            timestamp category customer_type  unit_price  quantity  total  \\\n",
       "0 2022-03-02 09:51:00    fruit          gold        3.99         2   7.98   \n",
       "1 2022-03-06 10:33:00    fruit      standard        3.99         1   3.99   \n",
       "2 2022-03-04 17:20:00    fruit       premium        0.19         2   0.38   \n",
       "3 2022-03-02 17:23:00    fruit          gold        0.19         4   0.76   \n",
       "4 2022-03-05 14:32:00    fruit         basic        4.49         2   8.98   \n",
       "\n",
       "  payment_type  day  month  \n",
       "0     e-wallet    2      3  \n",
       "1     e-wallet    6      3  \n",
       "2     e-wallet    4      3  \n",
       "3     e-wallet    2      3  \n",
       "4   debit card    5      3  "
      ]
     },
     "execution_count": 25,
     "metadata": {},
     "output_type": "execute_result"
    }
   ],
   "source": [
    "df1['timestamp'] = pd.to_datetime(df1['timestamp'], format='%d-%m-%Y %H:%M')\n",
    "\n",
    "# Extract day and month and create new columns\n",
    "df1['day'] = df1['timestamp'].dt.day\n",
    "df1['month'] = df1['timestamp'].dt.month\n",
    "df1.head()"
   ]
  },
  {
   "cell_type": "code",
   "execution_count": 26,
   "metadata": {},
   "outputs": [
    {
     "data": {
      "text/plain": [
       "array([2, 6, 4, 5, 7, 1, 3])"
      ]
     },
     "execution_count": 26,
     "metadata": {},
     "output_type": "execute_result"
    }
   ],
   "source": [
    "df1['day'].unique()"
   ]
  },
  {
   "cell_type": "code",
   "execution_count": 27,
   "metadata": {},
   "outputs": [
    {
     "data": {
      "text/plain": [
       "array([3])"
      ]
     },
     "execution_count": 27,
     "metadata": {},
     "output_type": "execute_result"
    }
   ],
   "source": [
    "df1['month'].unique()"
   ]
  },
  {
   "cell_type": "markdown",
   "metadata": {},
   "source": [
    "From the above code we found that the data contains only 7 days of data values and only one month is present"
   ]
  },
  {
   "cell_type": "markdown",
   "metadata": {},
   "source": [
    "The following plots are plotted to find further insights in the dataset"
   ]
  },
  {
   "cell_type": "code",
   "execution_count": 38,
   "metadata": {},
   "outputs": [
    {
     "data": {
      "image/png": "[encoded data removed]",
      "text/plain": [
       "<Figure size 640x480 with 1 Axes>"
      ]
     },
     "metadata": {},
     "output_type": "display_data"
    }
   ],
   "source": [
    "plt.bar(df1['day'], df1['total'], color='blue', alpha=0.5)\n",
    "\n",
    "# Customize the plot\n",
    "plt.xlabel('Day')\n",
    "plt.ylabel('Total')\n",
    "plt.title('Bar Plot of Day vs Total')\n",
    "\n",
    "# Show the plot\n",
    "plt.show()"
   ]
  },
  {
   "cell_type": "code",
   "execution_count": 39,
   "metadata": {},
   "outputs": [
    {
     "data": {
      "image/png": "[encoded data removed]",
      "text/plain": [
       "<Figure size 640x480 with 1 Axes>"
      ]
     },
     "metadata": {},
     "output_type": "display_data"
    }
   ],
   "source": [
    "plt.bar(df1['payment_type'], df1['total'], color='blue', alpha=0.5)\n",
    "\n",
    "# Customize the plot\n",
    "plt.xlabel('Payment_Mode')\n",
    "plt.ylabel('Total')\n",
    "plt.title('Bar Plot of Payment_Mode vs Total')\n",
    "\n",
    "# Show the plot\n",
    "plt.show()"
   ]
  },
  {
   "cell_type": "code",
   "execution_count": 35,
   "metadata": {},
   "outputs": [],
   "source": [
    "df2 = df1[['unit_price','total']]"
   ]
  },
  {
   "cell_type": "code",
   "execution_count": 36,
   "metadata": {},
   "outputs": [
    {
     "data": {
      "image/png": "[encoded data removed]",
      "text/plain": [
       "<Figure size 640x480 with 1 Axes>"
      ]
     },
     "metadata": {},
     "output_type": "display_data"
    },
    {
     "data": {
      "image/png": "[encoded data removed]",
      "text/plain": [
       "<Figure size 640x480 with 1 Axes>"
      ]
     },
     "metadata": {},
     "output_type": "display_data"
    }
   ],
   "source": [
    "def plot_continuous_distribution(df,columns):\n",
    "  for i in columns:\n",
    "   sns.histplot(data=df,x=i,color='r')\n",
    "   plt.title(f'Distribution of {i}')\n",
    "   plt.show()\n",
    "\n",
    "plot_continuous_distribution(df2,df2.select_dtypes(include='number').columns)"
   ]
  },
  {
   "cell_type": "markdown",
   "metadata": {},
   "source": [
    "Here are my findings on the Sample Sales data:\n",
    "\n",
    "•\tFruits and Vegetables are most frequently purchased product categories, spices and herbs are least purchased product categories\n",
    "\n",
    "•\tLow priced products are sold more compared to high priced product\n",
    "\n",
    "•\tIf we considered ‘payment_type’ column as cash and cashless (i.e cashless being for credit card, e-wallet, debit card), there are more cashless purchases then cash purchases.\n",
    "\n",
    "I would recommend these points for future Analysis:\n",
    "\n",
    "•\tThe data only 7000 rows so with we can make decision for client problem statement\n",
    "\n",
    "•\tWe need more rows of data. The current sample is only from 1 store and 1 week worth of data.\n",
    "\n",
    "•\tWe need to frame the specific problem statement that we want to solve. The current business problem is too broad, we should narrow down the focus in order to deliver a valuable end product.\n"
   ]
  },
  {
   "cell_type": "markdown",
   "metadata": {},
   "source": []
  }
 ],
 "metadata": {
  "kernelspec": {
   "display_name": "Python 3",
   "language": "python",
   "name": "python3"
  },
  "language_info": {
   "codemirror_mode": {
    "name": "ipython",
    "version": 3
   },
   "file_extension": ".py",
   "mimetype": "text/x-python",
   "name": "python",
   "nbconvert_exporter": "python",
   "pygments_lexer": "ipython3",
   "version": "3.11.0"
  }
 },
 "nbformat": 4,
 "nbformat_minor": 2
}
